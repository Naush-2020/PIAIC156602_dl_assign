{
 "cells": [
  {
   "cell_type": "markdown",
   "id": "715d60e4",
   "metadata": {},
   "source": [
    "# Ionosphere Data Problem:\n",
    "    \n",
    "- Radar data:\n",
    "    - phased array of 16 high-frequency antennas\n",
    "    - with a total transmitted power on the order of 6.4 kilowatts   \n",
    "    - received signals were processed using an autocorrelation function whose arguments are the time of a pulse and the pulse number. \n",
    "    - There were 17 pulse numbers for the Goose Bay system. \n",
    "    - Instances in this databse are described by 2 attributes per pulse number, corresponding to the complex values returned by the function resulting from the complex electromagnetic signal.\n",
    "    \n",
    "- Collected by a system in Goose Bay, Labrador. \n",
    "- The targets were free electrons in the ionosphere. \n",
    "\n",
    "- Binary Classification: \n",
    "    - 'g': \"Good\" radar returns are those showing evidence of some type of structure in the ionosphere. \n",
    "    - 'b': \"Bad\" returns are those that do not; their signals pass through the ionosphere.\n",
    "- Attribute Information:\n",
    "    - All 34 are continuous\n",
    "    - The 35th attribute is either \"good\" or \"bad\" according to the definition summarized above. \n",
    "- Characteristics:\n",
    "    - Multivariate data\n",
    "    - No. of instances: 351\n",
    "    - attribute: real/integer, no. of attributes: 34\n",
    "    - missing values: na\n",
    "   "
   ]
  },
  {
   "cell_type": "markdown",
   "id": "593da27c",
   "metadata": {},
   "source": [
    "## Step 1: Load Data"
   ]
  },
  {
   "cell_type": "code",
   "execution_count": 1,
   "id": "7455421c",
   "metadata": {},
   "outputs": [],
   "source": [
    "#import libraries:\n",
    "import keras\n",
    "import numpy as np\n",
    "import pandas as pd"
   ]
  },
  {
   "cell_type": "code",
   "execution_count": 85,
   "id": "76d646d7",
   "metadata": {},
   "outputs": [
    {
     "data": {
      "text/html": [
       "<div>\n",
       "<style scoped>\n",
       "    .dataframe tbody tr th:only-of-type {\n",
       "        vertical-align: middle;\n",
       "    }\n",
       "\n",
       "    .dataframe tbody tr th {\n",
       "        vertical-align: top;\n",
       "    }\n",
       "\n",
       "    .dataframe thead th {\n",
       "        text-align: right;\n",
       "    }\n",
       "</style>\n",
       "<table border=\"1\" class=\"dataframe\">\n",
       "  <thead>\n",
       "    <tr style=\"text-align: right;\">\n",
       "      <th></th>\n",
       "      <th>feature1</th>\n",
       "      <th>feature2</th>\n",
       "      <th>feature3</th>\n",
       "      <th>feature4</th>\n",
       "      <th>feature5</th>\n",
       "      <th>feature6</th>\n",
       "      <th>feature7</th>\n",
       "      <th>feature8</th>\n",
       "      <th>feature9</th>\n",
       "      <th>feature10</th>\n",
       "      <th>...</th>\n",
       "      <th>feature26</th>\n",
       "      <th>feature27</th>\n",
       "      <th>feature28</th>\n",
       "      <th>feature29</th>\n",
       "      <th>feature30</th>\n",
       "      <th>feature31</th>\n",
       "      <th>feature32</th>\n",
       "      <th>feature33</th>\n",
       "      <th>feature34</th>\n",
       "      <th>label</th>\n",
       "    </tr>\n",
       "  </thead>\n",
       "  <tbody>\n",
       "    <tr>\n",
       "      <th>0</th>\n",
       "      <td>1</td>\n",
       "      <td>0</td>\n",
       "      <td>0.99539</td>\n",
       "      <td>-0.05889</td>\n",
       "      <td>0.85243</td>\n",
       "      <td>0.02306</td>\n",
       "      <td>0.83398</td>\n",
       "      <td>-0.37708</td>\n",
       "      <td>1.00000</td>\n",
       "      <td>0.03760</td>\n",
       "      <td>...</td>\n",
       "      <td>-0.51171</td>\n",
       "      <td>0.41078</td>\n",
       "      <td>-0.46168</td>\n",
       "      <td>0.21266</td>\n",
       "      <td>-0.34090</td>\n",
       "      <td>0.42267</td>\n",
       "      <td>-0.54487</td>\n",
       "      <td>0.18641</td>\n",
       "      <td>-0.45300</td>\n",
       "      <td>g</td>\n",
       "    </tr>\n",
       "    <tr>\n",
       "      <th>1</th>\n",
       "      <td>1</td>\n",
       "      <td>0</td>\n",
       "      <td>1.00000</td>\n",
       "      <td>-0.18829</td>\n",
       "      <td>0.93035</td>\n",
       "      <td>-0.36156</td>\n",
       "      <td>-0.10868</td>\n",
       "      <td>-0.93597</td>\n",
       "      <td>1.00000</td>\n",
       "      <td>-0.04549</td>\n",
       "      <td>...</td>\n",
       "      <td>-0.26569</td>\n",
       "      <td>-0.20468</td>\n",
       "      <td>-0.18401</td>\n",
       "      <td>-0.19040</td>\n",
       "      <td>-0.11593</td>\n",
       "      <td>-0.16626</td>\n",
       "      <td>-0.06288</td>\n",
       "      <td>-0.13738</td>\n",
       "      <td>-0.02447</td>\n",
       "      <td>b</td>\n",
       "    </tr>\n",
       "    <tr>\n",
       "      <th>2</th>\n",
       "      <td>1</td>\n",
       "      <td>0</td>\n",
       "      <td>1.00000</td>\n",
       "      <td>-0.03365</td>\n",
       "      <td>1.00000</td>\n",
       "      <td>0.00485</td>\n",
       "      <td>1.00000</td>\n",
       "      <td>-0.12062</td>\n",
       "      <td>0.88965</td>\n",
       "      <td>0.01198</td>\n",
       "      <td>...</td>\n",
       "      <td>-0.40220</td>\n",
       "      <td>0.58984</td>\n",
       "      <td>-0.22145</td>\n",
       "      <td>0.43100</td>\n",
       "      <td>-0.17365</td>\n",
       "      <td>0.60436</td>\n",
       "      <td>-0.24180</td>\n",
       "      <td>0.56045</td>\n",
       "      <td>-0.38238</td>\n",
       "      <td>g</td>\n",
       "    </tr>\n",
       "    <tr>\n",
       "      <th>3</th>\n",
       "      <td>1</td>\n",
       "      <td>0</td>\n",
       "      <td>1.00000</td>\n",
       "      <td>-0.45161</td>\n",
       "      <td>1.00000</td>\n",
       "      <td>1.00000</td>\n",
       "      <td>0.71216</td>\n",
       "      <td>-1.00000</td>\n",
       "      <td>0.00000</td>\n",
       "      <td>0.00000</td>\n",
       "      <td>...</td>\n",
       "      <td>0.90695</td>\n",
       "      <td>0.51613</td>\n",
       "      <td>1.00000</td>\n",
       "      <td>1.00000</td>\n",
       "      <td>-0.20099</td>\n",
       "      <td>0.25682</td>\n",
       "      <td>1.00000</td>\n",
       "      <td>-0.32382</td>\n",
       "      <td>1.00000</td>\n",
       "      <td>b</td>\n",
       "    </tr>\n",
       "    <tr>\n",
       "      <th>4</th>\n",
       "      <td>1</td>\n",
       "      <td>0</td>\n",
       "      <td>1.00000</td>\n",
       "      <td>-0.02401</td>\n",
       "      <td>0.94140</td>\n",
       "      <td>0.06531</td>\n",
       "      <td>0.92106</td>\n",
       "      <td>-0.23255</td>\n",
       "      <td>0.77152</td>\n",
       "      <td>-0.16399</td>\n",
       "      <td>...</td>\n",
       "      <td>-0.65158</td>\n",
       "      <td>0.13290</td>\n",
       "      <td>-0.53206</td>\n",
       "      <td>0.02431</td>\n",
       "      <td>-0.62197</td>\n",
       "      <td>-0.05707</td>\n",
       "      <td>-0.59573</td>\n",
       "      <td>-0.04608</td>\n",
       "      <td>-0.65697</td>\n",
       "      <td>g</td>\n",
       "    </tr>\n",
       "  </tbody>\n",
       "</table>\n",
       "<p>5 rows × 35 columns</p>\n",
       "</div>"
      ],
      "text/plain": [
       "   feature1  feature2  feature3  feature4  feature5  feature6  feature7  \\\n",
       "0         1         0   0.99539  -0.05889   0.85243   0.02306   0.83398   \n",
       "1         1         0   1.00000  -0.18829   0.93035  -0.36156  -0.10868   \n",
       "2         1         0   1.00000  -0.03365   1.00000   0.00485   1.00000   \n",
       "3         1         0   1.00000  -0.45161   1.00000   1.00000   0.71216   \n",
       "4         1         0   1.00000  -0.02401   0.94140   0.06531   0.92106   \n",
       "\n",
       "   feature8  feature9  feature10  ...  feature26  feature27  feature28  \\\n",
       "0  -0.37708   1.00000    0.03760  ...   -0.51171    0.41078   -0.46168   \n",
       "1  -0.93597   1.00000   -0.04549  ...   -0.26569   -0.20468   -0.18401   \n",
       "2  -0.12062   0.88965    0.01198  ...   -0.40220    0.58984   -0.22145   \n",
       "3  -1.00000   0.00000    0.00000  ...    0.90695    0.51613    1.00000   \n",
       "4  -0.23255   0.77152   -0.16399  ...   -0.65158    0.13290   -0.53206   \n",
       "\n",
       "   feature29  feature30  feature31  feature32  feature33  feature34  label  \n",
       "0    0.21266   -0.34090    0.42267   -0.54487    0.18641   -0.45300      g  \n",
       "1   -0.19040   -0.11593   -0.16626   -0.06288   -0.13738   -0.02447      b  \n",
       "2    0.43100   -0.17365    0.60436   -0.24180    0.56045   -0.38238      g  \n",
       "3    1.00000   -0.20099    0.25682    1.00000   -0.32382    1.00000      b  \n",
       "4    0.02431   -0.62197   -0.05707   -0.59573   -0.04608   -0.65697      g  \n",
       "\n",
       "[5 rows x 35 columns]"
      ]
     },
     "execution_count": 85,
     "metadata": {},
     "output_type": "execute_result"
    }
   ],
   "source": [
    "df = pd.read_csv('ionosphere_data.csv')\n",
    "df.head()"
   ]
  },
  {
   "cell_type": "code",
   "execution_count": 86,
   "id": "0fc67ea6",
   "metadata": {},
   "outputs": [
    {
     "data": {
      "text/plain": [
       "(351, 35)"
      ]
     },
     "execution_count": 86,
     "metadata": {},
     "output_type": "execute_result"
    }
   ],
   "source": [
    "#feature1-34, label: g or b\n",
    "#feature1 & 2 seems constant\n",
    "\n",
    "df.shape"
   ]
  },
  {
   "cell_type": "code",
   "execution_count": 87,
   "id": "3db76c67",
   "metadata": {},
   "outputs": [
    {
     "data": {
      "text/plain": [
       "feature1       int64\n",
       "feature2       int64\n",
       "feature3     float64\n",
       "feature4     float64\n",
       "feature5     float64\n",
       "feature6     float64\n",
       "feature7     float64\n",
       "feature8     float64\n",
       "feature9     float64\n",
       "feature10    float64\n",
       "feature11    float64\n",
       "feature12    float64\n",
       "feature13    float64\n",
       "feature14    float64\n",
       "feature15    float64\n",
       "feature16    float64\n",
       "feature17    float64\n",
       "feature18    float64\n",
       "feature19    float64\n",
       "feature20    float64\n",
       "feature21    float64\n",
       "feature22    float64\n",
       "feature23    float64\n",
       "feature24    float64\n",
       "feature25    float64\n",
       "feature26    float64\n",
       "feature27    float64\n",
       "feature28    float64\n",
       "feature29    float64\n",
       "feature30    float64\n",
       "feature31    float64\n",
       "feature32    float64\n",
       "feature33    float64\n",
       "feature34    float64\n",
       "label         object\n",
       "dtype: object"
      ]
     },
     "execution_count": 87,
     "metadata": {},
     "output_type": "execute_result"
    }
   ],
   "source": [
    "df.dtypes"
   ]
  },
  {
   "cell_type": "code",
   "execution_count": null,
   "id": "bf750981",
   "metadata": {},
   "outputs": [],
   "source": [
    "#label: object -> encode \n",
    "#feature 1 &2: int64, feature 3-34: float64\n"
   ]
  },
  {
   "cell_type": "markdown",
   "id": "04263e3f",
   "metadata": {},
   "source": [
    "## Step 2: Check Missing Values (fill with mean if any), drop duplicates or any usless column"
   ]
  },
  {
   "cell_type": "code",
   "execution_count": 88,
   "id": "f57f0a6a",
   "metadata": {},
   "outputs": [
    {
     "data": {
      "text/plain": [
       "feature1     0\n",
       "feature2     0\n",
       "feature3     0\n",
       "feature4     0\n",
       "feature5     0\n",
       "feature6     0\n",
       "feature7     0\n",
       "feature8     0\n",
       "feature9     0\n",
       "feature10    0\n",
       "feature11    0\n",
       "feature12    0\n",
       "feature13    0\n",
       "feature14    0\n",
       "feature15    0\n",
       "feature16    0\n",
       "feature17    0\n",
       "feature18    0\n",
       "feature19    0\n",
       "feature20    0\n",
       "feature21    0\n",
       "feature22    0\n",
       "feature23    0\n",
       "feature24    0\n",
       "feature25    0\n",
       "feature26    0\n",
       "feature27    0\n",
       "feature28    0\n",
       "feature29    0\n",
       "feature30    0\n",
       "feature31    0\n",
       "feature32    0\n",
       "feature33    0\n",
       "feature34    0\n",
       "label        0\n",
       "dtype: int64"
      ]
     },
     "execution_count": 88,
     "metadata": {},
     "output_type": "execute_result"
    }
   ],
   "source": [
    "df.isnull().sum()   #although already stated that no missing value"
   ]
  },
  {
   "cell_type": "code",
   "execution_count": 89,
   "id": "a21547a1",
   "metadata": {},
   "outputs": [
    {
     "data": {
      "text/plain": [
       "1"
      ]
     },
     "execution_count": 89,
     "metadata": {},
     "output_type": "execute_result"
    }
   ],
   "source": [
    "#checking for duplicates\n",
    "df.duplicated().sum()"
   ]
  },
  {
   "cell_type": "code",
   "execution_count": 90,
   "id": "ba45e64f",
   "metadata": {},
   "outputs": [
    {
     "data": {
      "text/plain": [
       "(350, 35)"
      ]
     },
     "execution_count": 90,
     "metadata": {},
     "output_type": "execute_result"
    }
   ],
   "source": [
    "df.drop_duplicates(inplace=True)\n",
    "df.shape"
   ]
  },
  {
   "cell_type": "code",
   "execution_count": 91,
   "id": "042a2221",
   "metadata": {},
   "outputs": [
    {
     "data": {
      "text/plain": [
       "0"
      ]
     },
     "execution_count": 91,
     "metadata": {},
     "output_type": "execute_result"
    }
   ],
   "source": [
    "df.duplicated().sum()"
   ]
  },
  {
   "cell_type": "markdown",
   "id": "fdba363a",
   "metadata": {},
   "source": [
    "## Step 3: Standardized the Input Variables. "
   ]
  },
  {
   "cell_type": "code",
   "execution_count": 92,
   "id": "0003145a",
   "metadata": {},
   "outputs": [
    {
     "data": {
      "text/html": [
       "<div>\n",
       "<style scoped>\n",
       "    .dataframe tbody tr th:only-of-type {\n",
       "        vertical-align: middle;\n",
       "    }\n",
       "\n",
       "    .dataframe tbody tr th {\n",
       "        vertical-align: top;\n",
       "    }\n",
       "\n",
       "    .dataframe thead th {\n",
       "        text-align: right;\n",
       "    }\n",
       "</style>\n",
       "<table border=\"1\" class=\"dataframe\">\n",
       "  <thead>\n",
       "    <tr style=\"text-align: right;\">\n",
       "      <th></th>\n",
       "      <th>feature1</th>\n",
       "      <th>feature2</th>\n",
       "      <th>feature3</th>\n",
       "      <th>feature4</th>\n",
       "      <th>feature5</th>\n",
       "      <th>feature6</th>\n",
       "      <th>feature7</th>\n",
       "      <th>feature8</th>\n",
       "      <th>feature9</th>\n",
       "      <th>feature10</th>\n",
       "      <th>...</th>\n",
       "      <th>feature26</th>\n",
       "      <th>feature27</th>\n",
       "      <th>feature28</th>\n",
       "      <th>feature29</th>\n",
       "      <th>feature30</th>\n",
       "      <th>feature31</th>\n",
       "      <th>feature32</th>\n",
       "      <th>feature33</th>\n",
       "      <th>feature34</th>\n",
       "      <th>label</th>\n",
       "    </tr>\n",
       "  </thead>\n",
       "  <tbody>\n",
       "    <tr>\n",
       "      <th>0</th>\n",
       "      <td>1</td>\n",
       "      <td>0</td>\n",
       "      <td>0.997695</td>\n",
       "      <td>0.470555</td>\n",
       "      <td>0.926215</td>\n",
       "      <td>0.511530</td>\n",
       "      <td>0.91699</td>\n",
       "      <td>0.311460</td>\n",
       "      <td>1.000000</td>\n",
       "      <td>0.518800</td>\n",
       "      <td>...</td>\n",
       "      <td>0.244145</td>\n",
       "      <td>0.705390</td>\n",
       "      <td>0.269160</td>\n",
       "      <td>0.606330</td>\n",
       "      <td>0.329550</td>\n",
       "      <td>0.711335</td>\n",
       "      <td>0.227565</td>\n",
       "      <td>0.593205</td>\n",
       "      <td>0.273500</td>\n",
       "      <td>g</td>\n",
       "    </tr>\n",
       "    <tr>\n",
       "      <th>1</th>\n",
       "      <td>1</td>\n",
       "      <td>0</td>\n",
       "      <td>1.000000</td>\n",
       "      <td>0.405855</td>\n",
       "      <td>0.965175</td>\n",
       "      <td>0.319220</td>\n",
       "      <td>0.44566</td>\n",
       "      <td>0.032015</td>\n",
       "      <td>1.000000</td>\n",
       "      <td>0.477255</td>\n",
       "      <td>...</td>\n",
       "      <td>0.367155</td>\n",
       "      <td>0.397660</td>\n",
       "      <td>0.407995</td>\n",
       "      <td>0.404800</td>\n",
       "      <td>0.442035</td>\n",
       "      <td>0.416870</td>\n",
       "      <td>0.468560</td>\n",
       "      <td>0.431310</td>\n",
       "      <td>0.487765</td>\n",
       "      <td>b</td>\n",
       "    </tr>\n",
       "    <tr>\n",
       "      <th>2</th>\n",
       "      <td>1</td>\n",
       "      <td>0</td>\n",
       "      <td>1.000000</td>\n",
       "      <td>0.483175</td>\n",
       "      <td>1.000000</td>\n",
       "      <td>0.502425</td>\n",
       "      <td>1.00000</td>\n",
       "      <td>0.439690</td>\n",
       "      <td>0.944825</td>\n",
       "      <td>0.505990</td>\n",
       "      <td>...</td>\n",
       "      <td>0.298900</td>\n",
       "      <td>0.794920</td>\n",
       "      <td>0.389275</td>\n",
       "      <td>0.715500</td>\n",
       "      <td>0.413175</td>\n",
       "      <td>0.802180</td>\n",
       "      <td>0.379100</td>\n",
       "      <td>0.780225</td>\n",
       "      <td>0.308810</td>\n",
       "      <td>g</td>\n",
       "    </tr>\n",
       "    <tr>\n",
       "      <th>3</th>\n",
       "      <td>1</td>\n",
       "      <td>0</td>\n",
       "      <td>1.000000</td>\n",
       "      <td>0.274195</td>\n",
       "      <td>1.000000</td>\n",
       "      <td>1.000000</td>\n",
       "      <td>0.85608</td>\n",
       "      <td>0.000000</td>\n",
       "      <td>0.500000</td>\n",
       "      <td>0.500000</td>\n",
       "      <td>...</td>\n",
       "      <td>0.953475</td>\n",
       "      <td>0.758065</td>\n",
       "      <td>1.000000</td>\n",
       "      <td>1.000000</td>\n",
       "      <td>0.399505</td>\n",
       "      <td>0.628410</td>\n",
       "      <td>1.000000</td>\n",
       "      <td>0.338090</td>\n",
       "      <td>1.000000</td>\n",
       "      <td>b</td>\n",
       "    </tr>\n",
       "    <tr>\n",
       "      <th>4</th>\n",
       "      <td>1</td>\n",
       "      <td>0</td>\n",
       "      <td>1.000000</td>\n",
       "      <td>0.487995</td>\n",
       "      <td>0.970700</td>\n",
       "      <td>0.532655</td>\n",
       "      <td>0.96053</td>\n",
       "      <td>0.383725</td>\n",
       "      <td>0.885760</td>\n",
       "      <td>0.418005</td>\n",
       "      <td>...</td>\n",
       "      <td>0.174210</td>\n",
       "      <td>0.566450</td>\n",
       "      <td>0.233970</td>\n",
       "      <td>0.512155</td>\n",
       "      <td>0.189015</td>\n",
       "      <td>0.471465</td>\n",
       "      <td>0.202135</td>\n",
       "      <td>0.476960</td>\n",
       "      <td>0.171515</td>\n",
       "      <td>g</td>\n",
       "    </tr>\n",
       "  </tbody>\n",
       "</table>\n",
       "<p>5 rows × 35 columns</p>\n",
       "</div>"
      ],
      "text/plain": [
       "   feature1  feature2  feature3  feature4  feature5  feature6  feature7  \\\n",
       "0         1         0  0.997695  0.470555  0.926215  0.511530   0.91699   \n",
       "1         1         0  1.000000  0.405855  0.965175  0.319220   0.44566   \n",
       "2         1         0  1.000000  0.483175  1.000000  0.502425   1.00000   \n",
       "3         1         0  1.000000  0.274195  1.000000  1.000000   0.85608   \n",
       "4         1         0  1.000000  0.487995  0.970700  0.532655   0.96053   \n",
       "\n",
       "   feature8  feature9  feature10  ...  feature26  feature27  feature28  \\\n",
       "0  0.311460  1.000000   0.518800  ...   0.244145   0.705390   0.269160   \n",
       "1  0.032015  1.000000   0.477255  ...   0.367155   0.397660   0.407995   \n",
       "2  0.439690  0.944825   0.505990  ...   0.298900   0.794920   0.389275   \n",
       "3  0.000000  0.500000   0.500000  ...   0.953475   0.758065   1.000000   \n",
       "4  0.383725  0.885760   0.418005  ...   0.174210   0.566450   0.233970   \n",
       "\n",
       "   feature29  feature30  feature31  feature32  feature33  feature34  label  \n",
       "0   0.606330   0.329550   0.711335   0.227565   0.593205   0.273500      g  \n",
       "1   0.404800   0.442035   0.416870   0.468560   0.431310   0.487765      b  \n",
       "2   0.715500   0.413175   0.802180   0.379100   0.780225   0.308810      g  \n",
       "3   1.000000   0.399505   0.628410   1.000000   0.338090   1.000000      b  \n",
       "4   0.512155   0.189015   0.471465   0.202135   0.476960   0.171515      g  \n",
       "\n",
       "[5 rows x 35 columns]"
      ]
     },
     "execution_count": 92,
     "metadata": {},
     "output_type": "execute_result"
    }
   ],
   "source": [
    "#standarizing all features but not the label  \n",
    "\n",
    "from sklearn.preprocessing import MinMaxScaler\n",
    "scaler = MinMaxScaler()\n",
    "df.iloc[:, 2:-1] = scaler.fit_transform(df.iloc[:, 2:-1])  \n",
    "df.head()"
   ]
  },
  {
   "cell_type": "code",
   "execution_count": 93,
   "id": "d014974e",
   "metadata": {},
   "outputs": [],
   "source": [
    "#df['feature2'].sum()   #all values are zero, so dropping it \n",
    "\n",
    "#df['feature1'].sum()  #sum  was 313 out of 350 values, so some values are not 1 but 0"
   ]
  },
  {
   "cell_type": "code",
   "execution_count": 94,
   "id": "429e732d",
   "metadata": {},
   "outputs": [
    {
     "data": {
      "text/plain": [
       "(350, 34)"
      ]
     },
     "execution_count": 94,
     "metadata": {},
     "output_type": "execute_result"
    }
   ],
   "source": [
    "df.drop(columns = ['feature2'], inplace=True)\n",
    "df.shape"
   ]
  },
  {
   "cell_type": "code",
   "execution_count": 99,
   "id": "df0704cd",
   "metadata": {},
   "outputs": [
    {
     "data": {
      "text/plain": [
       "0      1\n",
       "1      0\n",
       "2      1\n",
       "3      0\n",
       "4      1\n",
       "      ..\n",
       "346    1\n",
       "347    1\n",
       "348    1\n",
       "349    1\n",
       "350    1\n",
       "Name: label, Length: 350, dtype: int64"
      ]
     },
     "execution_count": 99,
     "metadata": {},
     "output_type": "execute_result"
    }
   ],
   "source": [
    "#Encoding label: simply mapped g with 1, b with 0\n",
    "df.iloc[:,-1] = df['label'].map({'g':1, 'b':0})\n",
    "df['label']"
   ]
  },
  {
   "cell_type": "markdown",
   "id": "8e2072be",
   "metadata": {},
   "source": [
    "## Step 4: Shuffle the data if needed. Split into 60 and 40 ratio."
   ]
  },
  {
   "cell_type": "code",
   "execution_count": 102,
   "id": "df2bc993",
   "metadata": {},
   "outputs": [],
   "source": [
    "df2 = df.sample(frac=1, random_state=0)  #shuffle and return all rows\n",
    "\n",
    "#350: 60% : 210 and 30%: 140\n",
    "\n",
    "train_X = df2.iloc[0:210,:-1].values\n",
    "train_y = df2.iloc[0:210,-1].values\n",
    "\n",
    "test_X = df2.iloc[210:,:-1].values\n",
    "test_y = df2.iloc[210:,-1].values\n"
   ]
  },
  {
   "cell_type": "code",
   "execution_count": 103,
   "id": "a2925060",
   "metadata": {},
   "outputs": [
    {
     "name": "stdout",
     "output_type": "stream",
     "text": [
      "(210, 33)\n",
      "(210,)\n",
      "(140, 33)\n",
      "(140,)\n"
     ]
    }
   ],
   "source": [
    "print(train_X.shape)\n",
    "print(train_y.shape)\n",
    "\n",
    "print(test_X.shape)\n",
    "print(test_y.shape)"
   ]
  },
  {
   "cell_type": "markdown",
   "id": "3f2dd5c4",
   "metadata": {},
   "source": [
    "## Step 5: Encode labels."
   ]
  },
  {
   "cell_type": "code",
   "execution_count": 59,
   "id": "a81a280e",
   "metadata": {},
   "outputs": [],
   "source": [
    "#already encoded the output label."
   ]
  },
  {
   "cell_type": "markdown",
   "id": "82539e51",
   "metadata": {},
   "source": [
    "## Step 6: Build Model (1 hidden layers including 16 unit)"
   ]
  },
  {
   "cell_type": "code",
   "execution_count": 115,
   "id": "25ef52b7",
   "metadata": {},
   "outputs": [],
   "source": [
    "from keras import models, layers\n",
    "\n",
    "model = models.Sequential()\n",
    "model.add(layers.Dense(32, activation='relu', input_shape=(33,)))  #input layer\n",
    "model.add(layers.Dense(16, activation='relu'))\n",
    "model.add(layers.Dense(1, activation='sigmoid'))  #Output layer\n"
   ]
  },
  {
   "cell_type": "code",
   "execution_count": 116,
   "id": "7abb9e51",
   "metadata": {},
   "outputs": [
    {
     "name": "stdout",
     "output_type": "stream",
     "text": [
      "Model: \"sequential_8\"\n",
      "_________________________________________________________________\n",
      "Layer (type)                 Output Shape              Param #   \n",
      "=================================================================\n",
      "dense_24 (Dense)             (None, 32)                1088      \n",
      "_________________________________________________________________\n",
      "dense_25 (Dense)             (None, 16)                528       \n",
      "_________________________________________________________________\n",
      "dense_26 (Dense)             (None, 1)                 17        \n",
      "=================================================================\n",
      "Total params: 1,633\n",
      "Trainable params: 1,633\n",
      "Non-trainable params: 0\n",
      "_________________________________________________________________\n"
     ]
    }
   ],
   "source": [
    "model.summary()"
   ]
  },
  {
   "cell_type": "markdown",
   "id": "98c994bb",
   "metadata": {},
   "source": [
    "## Step 7: Compilation Step "
   ]
  },
  {
   "cell_type": "code",
   "execution_count": 117,
   "id": "8358683a",
   "metadata": {},
   "outputs": [],
   "source": [
    "model.compile(optimizer='rmsprop', loss='binary_crossentropy', metrics=['accuracy'])"
   ]
  },
  {
   "cell_type": "markdown",
   "id": "7b1026c1",
   "metadata": {},
   "source": [
    "## Step 8: Train the Model with Epochs (100)."
   ]
  },
  {
   "cell_type": "code",
   "execution_count": 118,
   "id": "47e96c73",
   "metadata": {},
   "outputs": [
    {
     "name": "stdout",
     "output_type": "stream",
     "text": [
      "Epoch 1/100\n",
      "21/21 [==============================] - 0s 12ms/step - loss: 0.6466 - accuracy: 0.6048\n",
      "Epoch 2/100\n",
      "21/21 [==============================] - 0s 7ms/step - loss: 0.6093 - accuracy: 0.6095\n",
      "Epoch 3/100\n",
      "21/21 [==============================] - 0s 8ms/step - loss: 0.5855 - accuracy: 0.6476\n",
      "Epoch 4/100\n",
      "21/21 [==============================] - 0s 6ms/step - loss: 0.5626 - accuracy: 0.7000\n",
      "Epoch 5/100\n",
      "21/21 [==============================] - 0s 6ms/step - loss: 0.5408 - accuracy: 0.7667\n",
      "Epoch 6/100\n",
      "21/21 [==============================] - 0s 5ms/step - loss: 0.5171 - accuracy: 0.7619\n",
      "Epoch 7/100\n",
      "21/21 [==============================] - 0s 7ms/step - loss: 0.4980 - accuracy: 0.7952\n",
      "Epoch 8/100\n",
      "21/21 [==============================] - 0s 7ms/step - loss: 0.4784 - accuracy: 0.8143\n",
      "Epoch 9/100\n",
      "21/21 [==============================] - 0s 6ms/step - loss: 0.4600 - accuracy: 0.8238\n",
      "Epoch 10/100\n",
      "21/21 [==============================] - 0s 6ms/step - loss: 0.4399 - accuracy: 0.8524: 0s - loss: 0.4399 - accuracy: 0.85\n",
      "Epoch 11/100\n",
      "21/21 [==============================] - 0s 6ms/step - loss: 0.4167 - accuracy: 0.8524\n",
      "Epoch 12/100\n",
      "21/21 [==============================] - 0s 6ms/step - loss: 0.4042 - accuracy: 0.8619\n",
      "Epoch 13/100\n",
      "21/21 [==============================] - 0s 8ms/step - loss: 0.3805 - accuracy: 0.8619\n",
      "Epoch 14/100\n",
      "21/21 [==============================] - 0s 7ms/step - loss: 0.3607 - accuracy: 0.8857\n",
      "Epoch 15/100\n",
      "21/21 [==============================] - 0s 8ms/step - loss: 0.3503 - accuracy: 0.9048\n",
      "Epoch 16/100\n",
      "21/21 [==============================] - 0s 8ms/step - loss: 0.3282 - accuracy: 0.8810\n",
      "Epoch 17/100\n",
      "21/21 [==============================] - 0s 7ms/step - loss: 0.3100 - accuracy: 0.9048\n",
      "Epoch 18/100\n",
      "21/21 [==============================] - 0s 6ms/step - loss: 0.2973 - accuracy: 0.9048\n",
      "Epoch 19/100\n",
      "21/21 [==============================] - 0s 8ms/step - loss: 0.2847 - accuracy: 0.9000\n",
      "Epoch 20/100\n",
      "21/21 [==============================] - 0s 6ms/step - loss: 0.2656 - accuracy: 0.9238\n",
      "Epoch 21/100\n",
      "21/21 [==============================] - 0s 6ms/step - loss: 0.2640 - accuracy: 0.9143\n",
      "Epoch 22/100\n",
      "21/21 [==============================] - 0s 6ms/step - loss: 0.2500 - accuracy: 0.9238\n",
      "Epoch 23/100\n",
      "21/21 [==============================] - 0s 5ms/step - loss: 0.2431 - accuracy: 0.9190\n",
      "Epoch 24/100\n",
      "21/21 [==============================] - 0s 7ms/step - loss: 0.2352 - accuracy: 0.9286\n",
      "Epoch 25/100\n",
      "21/21 [==============================] - 0s 7ms/step - loss: 0.2274 - accuracy: 0.9238\n",
      "Epoch 26/100\n",
      "21/21 [==============================] - 0s 8ms/step - loss: 0.2163 - accuracy: 0.9381\n",
      "Epoch 27/100\n",
      "21/21 [==============================] - 0s 7ms/step - loss: 0.2079 - accuracy: 0.9429\n",
      "Epoch 28/100\n",
      "21/21 [==============================] - 0s 6ms/step - loss: 0.2066 - accuracy: 0.9333\n",
      "Epoch 29/100\n",
      "21/21 [==============================] - 0s 5ms/step - loss: 0.2060 - accuracy: 0.9286\n",
      "Epoch 30/100\n",
      "21/21 [==============================] - 0s 7ms/step - loss: 0.1978 - accuracy: 0.9381\n",
      "Epoch 31/100\n",
      "21/21 [==============================] - 0s 7ms/step - loss: 0.1898 - accuracy: 0.9333\n",
      "Epoch 32/100\n",
      "21/21 [==============================] - 0s 7ms/step - loss: 0.1859 - accuracy: 0.9429\n",
      "Epoch 33/100\n",
      "21/21 [==============================] - 0s 8ms/step - loss: 0.1824 - accuracy: 0.9524\n",
      "Epoch 34/100\n",
      "21/21 [==============================] - ETA: 0s - loss: 0.1800 - accuracy: 0.95 - 0s 8ms/step - loss: 0.1779 - accuracy: 0.9571\n",
      "Epoch 35/100\n",
      "21/21 [==============================] - 0s 8ms/step - loss: 0.1695 - accuracy: 0.9524\n",
      "Epoch 36/100\n",
      "21/21 [==============================] - 0s 7ms/step - loss: 0.1741 - accuracy: 0.9524\n",
      "Epoch 37/100\n",
      "21/21 [==============================] - 0s 9ms/step - loss: 0.1720 - accuracy: 0.9429\n",
      "Epoch 38/100\n",
      "21/21 [==============================] - 0s 8ms/step - loss: 0.1598 - accuracy: 0.9524: 0s - loss: 0.1630 - accuracy: 0.95\n",
      "Epoch 39/100\n",
      "21/21 [==============================] - 0s 9ms/step - loss: 0.1670 - accuracy: 0.9571\n",
      "Epoch 40/100\n",
      "21/21 [==============================] - 0s 9ms/step - loss: 0.1607 - accuracy: 0.9571\n",
      "Epoch 41/100\n",
      "21/21 [==============================] - 0s 9ms/step - loss: 0.1504 - accuracy: 0.9571\n",
      "Epoch 42/100\n",
      "21/21 [==============================] - 0s 9ms/step - loss: 0.1610 - accuracy: 0.9476\n",
      "Epoch 43/100\n",
      "21/21 [==============================] - 0s 11ms/step - loss: 0.1454 - accuracy: 0.9571\n",
      "Epoch 44/100\n",
      "21/21 [==============================] - 0s 8ms/step - loss: 0.1460 - accuracy: 0.9667\n",
      "Epoch 45/100\n",
      "21/21 [==============================] - 0s 8ms/step - loss: 0.1440 - accuracy: 0.9571\n",
      "Epoch 46/100\n",
      "21/21 [==============================] - 0s 7ms/step - loss: 0.1375 - accuracy: 0.9524\n",
      "Epoch 47/100\n",
      "21/21 [==============================] - 0s 9ms/step - loss: 0.1391 - accuracy: 0.9667\n",
      "Epoch 48/100\n",
      "21/21 [==============================] - 0s 7ms/step - loss: 0.1338 - accuracy: 0.9619\n",
      "Epoch 49/100\n",
      "21/21 [==============================] - 0s 8ms/step - loss: 0.1303 - accuracy: 0.9524\n",
      "Epoch 50/100\n",
      "21/21 [==============================] - 0s 7ms/step - loss: 0.1326 - accuracy: 0.9667\n",
      "Epoch 51/100\n",
      "21/21 [==============================] - 0s 8ms/step - loss: 0.1244 - accuracy: 0.9714\n",
      "Epoch 52/100\n",
      "21/21 [==============================] - 0s 7ms/step - loss: 0.1314 - accuracy: 0.9619\n",
      "Epoch 53/100\n",
      "21/21 [==============================] - 0s 7ms/step - loss: 0.1213 - accuracy: 0.9667\n",
      "Epoch 54/100\n",
      "21/21 [==============================] - 0s 5ms/step - loss: 0.1198 - accuracy: 0.9571\n",
      "Epoch 55/100\n",
      "21/21 [==============================] - 0s 6ms/step - loss: 0.1329 - accuracy: 0.9476\n",
      "Epoch 56/100\n",
      "21/21 [==============================] - 0s 8ms/step - loss: 0.1171 - accuracy: 0.9571\n",
      "Epoch 57/100\n",
      "21/21 [==============================] - 0s 7ms/step - loss: 0.1144 - accuracy: 0.9619\n",
      "Epoch 58/100\n",
      "21/21 [==============================] - 0s 7ms/step - loss: 0.1117 - accuracy: 0.9667\n",
      "Epoch 59/100\n",
      "21/21 [==============================] - 0s 8ms/step - loss: 0.1129 - accuracy: 0.9667\n",
      "Epoch 60/100\n",
      "21/21 [==============================] - 0s 6ms/step - loss: 0.1006 - accuracy: 0.9667\n",
      "Epoch 61/100\n",
      "21/21 [==============================] - 0s 6ms/step - loss: 0.1134 - accuracy: 0.9476\n",
      "Epoch 62/100\n",
      "21/21 [==============================] - 0s 6ms/step - loss: 0.1145 - accuracy: 0.9571\n",
      "Epoch 63/100\n",
      "21/21 [==============================] - 0s 6ms/step - loss: 0.1009 - accuracy: 0.9714\n",
      "Epoch 64/100\n",
      "21/21 [==============================] - 0s 8ms/step - loss: 0.1055 - accuracy: 0.9619\n",
      "Epoch 65/100\n",
      "21/21 [==============================] - 0s 6ms/step - loss: 0.1037 - accuracy: 0.9667\n",
      "Epoch 66/100\n",
      "21/21 [==============================] - 0s 8ms/step - loss: 0.1065 - accuracy: 0.9619\n",
      "Epoch 67/100\n",
      "21/21 [==============================] - 0s 6ms/step - loss: 0.0902 - accuracy: 0.9762: 0s - loss: 0.0982 - accuracy: 0.97\n",
      "Epoch 68/100\n",
      "21/21 [==============================] - 0s 9ms/step - loss: 0.1068 - accuracy: 0.9619\n",
      "Epoch 69/100\n",
      "21/21 [==============================] - 0s 7ms/step - loss: 0.0965 - accuracy: 0.9619\n",
      "Epoch 70/100\n",
      "21/21 [==============================] - 0s 6ms/step - loss: 0.0930 - accuracy: 0.9762\n",
      "Epoch 71/100\n",
      "21/21 [==============================] - 0s 5ms/step - loss: 0.0964 - accuracy: 0.9667\n",
      "Epoch 72/100\n",
      "21/21 [==============================] - 0s 6ms/step - loss: 0.0905 - accuracy: 0.9714\n",
      "Epoch 73/100\n",
      "21/21 [==============================] - 0s 6ms/step - loss: 0.0914 - accuracy: 0.9667\n",
      "Epoch 74/100\n",
      "21/21 [==============================] - 0s 7ms/step - loss: 0.1001 - accuracy: 0.9619\n",
      "Epoch 75/100\n",
      "21/21 [==============================] - 0s 7ms/step - loss: 0.0892 - accuracy: 0.9667\n",
      "Epoch 76/100\n",
      "21/21 [==============================] - 0s 6ms/step - loss: 0.0846 - accuracy: 0.9714\n",
      "Epoch 77/100\n",
      "21/21 [==============================] - 0s 6ms/step - loss: 0.0891 - accuracy: 0.9762\n",
      "Epoch 78/100\n",
      "21/21 [==============================] - 0s 5ms/step - loss: 0.0840 - accuracy: 0.9762\n",
      "Epoch 79/100\n",
      "21/21 [==============================] - 0s 8ms/step - loss: 0.0846 - accuracy: 0.9667\n",
      "Epoch 80/100\n",
      "21/21 [==============================] - 0s 7ms/step - loss: 0.0841 - accuracy: 0.9762\n",
      "Epoch 81/100\n",
      "21/21 [==============================] - 0s 6ms/step - loss: 0.0921 - accuracy: 0.9810\n",
      "Epoch 82/100\n",
      "21/21 [==============================] - 0s 7ms/step - loss: 0.0785 - accuracy: 0.9714\n",
      "Epoch 83/100\n",
      "21/21 [==============================] - 0s 7ms/step - loss: 0.0910 - accuracy: 0.9667\n",
      "Epoch 84/100\n",
      "21/21 [==============================] - 0s 6ms/step - loss: 0.0764 - accuracy: 0.9762\n",
      "Epoch 85/100\n",
      "21/21 [==============================] - 0s 7ms/step - loss: 0.0724 - accuracy: 0.9667\n",
      "Epoch 86/100\n",
      "21/21 [==============================] - 0s 6ms/step - loss: 0.0707 - accuracy: 0.9810\n",
      "Epoch 87/100\n",
      "21/21 [==============================] - 0s 10ms/step - loss: 0.0720 - accuracy: 0.9810\n",
      "Epoch 88/100\n",
      "21/21 [==============================] - 0s 7ms/step - loss: 0.0844 - accuracy: 0.9619\n",
      "Epoch 89/100\n",
      "21/21 [==============================] - 0s 9ms/step - loss: 0.0821 - accuracy: 0.9667\n",
      "Epoch 90/100\n",
      "21/21 [==============================] - 0s 8ms/step - loss: 0.0715 - accuracy: 0.9810\n",
      "Epoch 91/100\n",
      "21/21 [==============================] - 0s 7ms/step - loss: 0.0860 - accuracy: 0.9714\n",
      "Epoch 92/100\n",
      "21/21 [==============================] - 0s 8ms/step - loss: 0.0671 - accuracy: 0.9857\n",
      "Epoch 93/100\n",
      "21/21 [==============================] - 0s 8ms/step - loss: 0.0627 - accuracy: 0.9810\n",
      "Epoch 94/100\n",
      "21/21 [==============================] - 0s 5ms/step - loss: 0.0725 - accuracy: 0.9762\n",
      "Epoch 95/100\n",
      "21/21 [==============================] - 0s 8ms/step - loss: 0.0722 - accuracy: 0.9762\n",
      "Epoch 96/100\n",
      "21/21 [==============================] - 0s 7ms/step - loss: 0.0708 - accuracy: 0.9810\n",
      "Epoch 97/100\n",
      "21/21 [==============================] - 0s 7ms/step - loss: 0.0649 - accuracy: 0.9810\n",
      "Epoch 98/100\n",
      "21/21 [==============================] - 0s 7ms/step - loss: 0.0702 - accuracy: 0.9857\n",
      "Epoch 99/100\n",
      "21/21 [==============================] - 0s 5ms/step - loss: 0.0655 - accuracy: 0.9857\n",
      "Epoch 100/100\n",
      "21/21 [==============================] - 0s 7ms/step - loss: 0.0735 - accuracy: 0.9667\n"
     ]
    },
    {
     "data": {
      "text/plain": [
       "<tensorflow.python.keras.callbacks.History at 0x2588af215c8>"
      ]
     },
     "execution_count": 118,
     "metadata": {},
     "output_type": "execute_result"
    }
   ],
   "source": [
    "model.fit(train_X, train_y, batch_size=10, epochs=100)"
   ]
  },
  {
   "cell_type": "markdown",
   "id": "2fc1135d",
   "metadata": {},
   "source": [
    "## Step 9: Evaluation Step\n",
    "- (Prediction should be > 92%)"
   ]
  },
  {
   "cell_type": "code",
   "execution_count": 120,
   "id": "fdcd0089",
   "metadata": {},
   "outputs": [
    {
     "name": "stdout",
     "output_type": "stream",
     "text": [
      "10/10 [==============================] - 0s 9ms/step - loss: 0.1447 - accuracy: 0.9643\n",
      "The accuracy score is  96.42857313156128 %\n"
     ]
    }
   ],
   "source": [
    "myscore = model.evaluate(test_X, test_y, batch_size=15)\n",
    "print('The accuracy score is ', myscore[1] * 100, '%')"
   ]
  },
  {
   "cell_type": "code",
   "execution_count": null,
   "id": "36d03d56",
   "metadata": {},
   "outputs": [],
   "source": [
    "#Step 10: If the model gets overfit tune your model by changing:\n",
    "    #- the units , No. of layers , epochs , add dropout layer or add Regularizer according to the need .\n",
    "#accuracy decreases if i start with units > 32        "
   ]
  },
  {
   "cell_type": "code",
   "execution_count": null,
   "id": "3baeec11",
   "metadata": {},
   "outputs": [],
   "source": []
  }
 ],
 "metadata": {
  "kernelspec": {
   "display_name": "Python 3",
   "language": "python",
   "name": "python3"
  },
  "language_info": {
   "codemirror_mode": {
    "name": "ipython",
    "version": 3
   },
   "file_extension": ".py",
   "mimetype": "text/x-python",
   "name": "python",
   "nbconvert_exporter": "python",
   "pygments_lexer": "ipython3",
   "version": "3.7.10"
  }
 },
 "nbformat": 4,
 "nbformat_minor": 5
}
