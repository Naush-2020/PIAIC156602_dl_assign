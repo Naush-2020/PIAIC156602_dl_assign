{
  "nbformat": 4,
  "nbformat_minor": 0,
  "metadata": {
    "colab": {
      "name": "flowers_problem.ipynb",
      "provenance": [],
      "collapsed_sections": [],
      "toc_visible": true,
      "mount_file_id": "1oQo1GgT9fWbuT95xsNB0JbDAH_WVjmAO",
      "authorship_tag": "ABX9TyN48BppLFKlhTTd7dLf2FR7",
      "include_colab_link": true
    },
    "kernelspec": {
      "name": "python3",
      "display_name": "Python 3"
    },
    "language_info": {
      "name": "python"
    }
  },
  "cells": [
    {
      "cell_type": "markdown",
      "metadata": {
        "id": "view-in-github",
        "colab_type": "text"
      },
      "source": [
        "<a href=\"https://colab.research.google.com/github/Naush-2020/PIAIC156602_dl_assign/blob/main/flowers_problem.ipynb\" target=\"_parent\"><img src=\"https://colab.research.google.com/assets/colab-badge.svg\" alt=\"Open In Colab\"/></a>"
      ]
    },
    {
      "cell_type": "markdown",
      "metadata": {
        "id": "yhI8M9FLFCNJ"
      },
      "source": [
        "# **Flowers Recognition Problem**\n",
        "\n",
        "- Multi-Class Problem\n",
        "-  4323 files belonging to 5 classes. \n",
        "- 'daisy', 'dandelion', 'rose', 'sunflower', 'tulip'\n",
        "- rgb, .jpg format, images not of same size\n",
        "\n",
        "**Classes:** \n",
        "- daisy: 769 \n",
        "- dandelion: 1052 (deleted some code files) \n",
        "- rose: 784 - sunflower: 734 \n",
        "- tulip: 984\n",
        "\n"
      ]
    },
    {
      "cell_type": "code",
      "metadata": {
        "id": "Cg53BMWd6kQO"
      },
      "source": [
        "##Loading Data\n",
        "\n",
        "import os\n",
        "from pathlib import Path\n",
        "import cv2\n"
      ],
      "execution_count": null,
      "outputs": []
    },
    {
      "cell_type": "code",
      "metadata": {
        "id": "Xnfzk34CXYeT"
      },
      "source": [
        "#id, img_name, ndarray(),label\n",
        "#X= 4323,250,250\n",
        "#y = labels"
      ],
      "execution_count": null,
      "outputs": []
    },
    {
      "cell_type": "code",
      "metadata": {
        "id": "tMuTEdotPjYz"
      },
      "source": [
        "file_path = Path(\"/content/drive/My Drive/flowers\")\n",
        "\n",
        "flowers = []\n",
        "features = []\n",
        "labels = []\n",
        "\n",
        "#Main directory:\n",
        "for dir in file_path.iterdir():\n",
        "  flowers.append(dir.name)\n",
        "# Sub Directories:\n",
        "  for imgpath in dir.iterdir():\n",
        "    if imgpath.name.endswith(\"jpg\"):\n",
        "      labels.append(dir.name)\n",
        "      imgarr = cv2.imread(str(imgpath), cv2.IMREAD_GRAYSCALE)\n",
        "      imgarr = cv2.resize(imgarr, (250,250))\n",
        "      features.append(imgarr)\n",
        "\n"
      ],
      "execution_count": null,
      "outputs": []
    },
    {
      "cell_type": "code",
      "metadata": {
        "id": "F6JpPdr7WVi-"
      },
      "source": [
        "import numpy as np\n"
      ],
      "execution_count": null,
      "outputs": []
    },
    {
      "cell_type": "code",
      "metadata": {
        "colab": {
          "base_uri": "https://localhost:8080/"
        },
        "id": "lnO3TPj5Y_SZ",
        "outputId": "93ae6ac3-c0ef-4be5-9113-e1b6c830920a"
      },
      "source": [
        "X = np.asarray(features)\n",
        "X.shape"
      ],
      "execution_count": null,
      "outputs": [
        {
          "output_type": "execute_result",
          "data": {
            "text/plain": [
              "(4323, 250, 250)"
            ]
          },
          "metadata": {
            "tags": []
          },
          "execution_count": 42
        }
      ]
    },
    {
      "cell_type": "code",
      "metadata": {
        "colab": {
          "base_uri": "https://localhost:8080/"
        },
        "id": "p3MLHLyzYqV2",
        "outputId": "f24b5b89-489b-43be-972f-5ae84330f3bd"
      },
      "source": [
        "y = np.asarray(labels)\n",
        "y.shape"
      ],
      "execution_count": null,
      "outputs": [
        {
          "output_type": "execute_result",
          "data": {
            "text/plain": [
              "(4323,)"
            ]
          },
          "metadata": {
            "tags": []
          },
          "execution_count": 40
        }
      ]
    },
    {
      "cell_type": "code",
      "metadata": {
        "colab": {
          "base_uri": "https://localhost:8080/"
        },
        "id": "lbf7kFhEY1Wr",
        "outputId": "9818b703-0371-4ab2-b777-ee89ed4e7a2f"
      },
      "source": [
        "y"
      ],
      "execution_count": null,
      "outputs": [
        {
          "output_type": "execute_result",
          "data": {
            "text/plain": [
              "array(['daisy', 'daisy', 'daisy', ..., 'tulip', 'tulip', 'tulip'],\n",
              "      dtype='<U9')"
            ]
          },
          "metadata": {
            "tags": []
          },
          "execution_count": 45
        }
      ]
    },
    {
      "cell_type": "code",
      "metadata": {
        "id": "mC9cnVf-Z9gq"
      },
      "source": [
        "#Encoding y\n",
        "import pandas as pd"
      ],
      "execution_count": null,
      "outputs": []
    },
    {
      "cell_type": "code",
      "metadata": {
        "id": "1mVp2Y3Va1_n"
      },
      "source": [
        "label_dummies = pd.get_dummies(y)\n",
        "y =  label_dummies.values.argmax(1)"
      ],
      "execution_count": null,
      "outputs": []
    },
    {
      "cell_type": "code",
      "metadata": {
        "colab": {
          "base_uri": "https://localhost:8080/"
        },
        "id": "BhUAZKQga8Km",
        "outputId": "5c550fb4-741b-445a-fa18-9844d8991a12"
      },
      "source": [
        "y"
      ],
      "execution_count": null,
      "outputs": [
        {
          "output_type": "execute_result",
          "data": {
            "text/plain": [
              "array([0, 0, 0, ..., 4, 4, 4])"
            ]
          },
          "metadata": {
            "tags": []
          },
          "execution_count": 53
        }
      ]
    },
    {
      "cell_type": "code",
      "metadata": {
        "id": "_KeYWn0abCLE"
      },
      "source": [
        "#Splitting:\n",
        "\n",
        "from sklearn.model_selection import train_test_split\n",
        "x_train, x_test, y_train, y_test = train_test_split(X, y, test_size=0.3, random_state=0)"
      ],
      "execution_count": null,
      "outputs": []
    },
    {
      "cell_type": "code",
      "metadata": {
        "colab": {
          "base_uri": "https://localhost:8080/"
        },
        "id": "U0wH2pj1bO3N",
        "outputId": "e94f69c5-317b-496b-82e7-6ccdc57d3e39"
      },
      "source": [
        "print('Training Data Shape: ')\n",
        "print(x_train.shape)\n",
        "print(y_train.shape)\n",
        "\n",
        "print('Testing Data Shape: ')\n",
        "print(x_test.shape)\n",
        "print(y_test.shape)"
      ],
      "execution_count": null,
      "outputs": [
        {
          "output_type": "stream",
          "text": [
            "Training Data Shape: \n",
            "(3026, 250, 250)\n",
            "(3026,)\n",
            "Testing Data Shape: \n",
            "(1297, 250, 250)\n",
            "(1297,)\n"
          ],
          "name": "stdout"
        }
      ]
    },
    {
      "cell_type": "code",
      "metadata": {
        "id": "N1XUX1nZb9j6"
      },
      "source": [
        "#Normalization:\n",
        "\n",
        "train_images=x_train.reshape((3026,250*250)) \n",
        "train_images=train_images.astype('float32') / 255 \n",
        "\n",
        "test_images=x_test.reshape((1297,250*250))\n",
        "test_images=test_images.astype('float32') / 255 "
      ],
      "execution_count": null,
      "outputs": []
    },
    {
      "cell_type": "code",
      "metadata": {
        "id": "jnMYFAPJctja"
      },
      "source": [
        "from keras.utils import to_categorical\n",
        "\n",
        "train_labels = to_categorical(y_train)\n",
        "test_labels = to_categorical(y_test)"
      ],
      "execution_count": null,
      "outputs": []
    },
    {
      "cell_type": "code",
      "metadata": {
        "id": "G97iEdFyc4A_"
      },
      "source": [
        "from keras import models\n",
        "from keras import layers\n",
        "\n",
        "model = models.Sequential()\n",
        "model.add(layers.Dense(512, activation= 'relu', input_shape=(250*250,)))\n",
        "model.add(layers.Dense(64, activation= 'relu'))\n",
        "model.add(layers.Dense(5, activation='softmax'))"
      ],
      "execution_count": null,
      "outputs": []
    },
    {
      "cell_type": "code",
      "metadata": {
        "id": "kT4Sa0oUda-R"
      },
      "source": [
        "model.compile(optimizer='rmsprop', loss='categorical_crossentropy', metrics= ['accuracy'])"
      ],
      "execution_count": null,
      "outputs": []
    },
    {
      "cell_type": "code",
      "metadata": {
        "colab": {
          "base_uri": "https://localhost:8080/"
        },
        "id": "fvdXCWFFdpdV",
        "outputId": "e19b8fe1-085a-43aa-b571-fa8b15b1dc06"
      },
      "source": [
        "model.fit(train_images, train_labels, epochs=50, batch_size=128)"
      ],
      "execution_count": null,
      "outputs": [
        {
          "output_type": "stream",
          "text": [
            "Epoch 1/50\n",
            "24/24 [==============================] - 12s 473ms/step - loss: 90.3819 - accuracy: 0.2072\n",
            "Epoch 2/50\n",
            "24/24 [==============================] - 12s 479ms/step - loss: 16.2927 - accuracy: 0.2291\n",
            "Epoch 3/50\n",
            "24/24 [==============================] - 11s 477ms/step - loss: 10.4191 - accuracy: 0.2312\n",
            "Epoch 4/50\n",
            "24/24 [==============================] - 11s 477ms/step - loss: 12.9555 - accuracy: 0.1961\n",
            "Epoch 5/50\n",
            "24/24 [==============================] - 11s 470ms/step - loss: 6.3910 - accuracy: 0.2458\n",
            "Epoch 6/50\n",
            "24/24 [==============================] - 11s 471ms/step - loss: 1.5962 - accuracy: 0.2337\n",
            "Epoch 7/50\n",
            "24/24 [==============================] - 11s 472ms/step - loss: 6.8087 - accuracy: 0.2156\n",
            "Epoch 8/50\n",
            "24/24 [==============================] - 11s 471ms/step - loss: 1.5943 - accuracy: 0.2328\n",
            "Epoch 9/50\n",
            "24/24 [==============================] - 11s 473ms/step - loss: 1.6725 - accuracy: 0.1907\n",
            "Epoch 10/50\n",
            "24/24 [==============================] - 11s 478ms/step - loss: 1.6195 - accuracy: 0.1820\n",
            "Epoch 11/50\n",
            "24/24 [==============================] - 11s 476ms/step - loss: 1.6414 - accuracy: 0.2427\n",
            "Epoch 12/50\n",
            "24/24 [==============================] - 11s 472ms/step - loss: 1.6712 - accuracy: 0.2340\n",
            "Epoch 13/50\n",
            "24/24 [==============================] - 11s 479ms/step - loss: 1.7557 - accuracy: 0.2671\n",
            "Epoch 14/50\n",
            "24/24 [==============================] - 11s 474ms/step - loss: 1.5971 - accuracy: 0.2354\n",
            "Epoch 15/50\n",
            "24/24 [==============================] - 11s 475ms/step - loss: 1.6009 - accuracy: 0.2664\n",
            "Epoch 16/50\n",
            "24/24 [==============================] - 11s 475ms/step - loss: 1.8894 - accuracy: 0.2455\n",
            "Epoch 17/50\n",
            "24/24 [==============================] - 11s 472ms/step - loss: 1.8557 - accuracy: 0.2366\n",
            "Epoch 18/50\n",
            "24/24 [==============================] - 11s 473ms/step - loss: 1.5884 - accuracy: 0.2784\n",
            "Epoch 19/50\n",
            "24/24 [==============================] - 11s 470ms/step - loss: 1.5916 - accuracy: 0.2824\n",
            "Epoch 20/50\n",
            "24/24 [==============================] - 11s 472ms/step - loss: 1.5973 - accuracy: 0.2672\n",
            "Epoch 21/50\n",
            "24/24 [==============================] - 11s 470ms/step - loss: 2.0961 - accuracy: 0.2688\n",
            "Epoch 22/50\n",
            "24/24 [==============================] - 11s 472ms/step - loss: 1.5846 - accuracy: 0.2828\n",
            "Epoch 23/50\n",
            "24/24 [==============================] - 11s 471ms/step - loss: 1.5769 - accuracy: 0.2858\n",
            "Epoch 24/50\n",
            "24/24 [==============================] - 11s 471ms/step - loss: 1.5805 - accuracy: 0.2745\n",
            "Epoch 25/50\n",
            "24/24 [==============================] - 11s 471ms/step - loss: 1.7638 - accuracy: 0.2443\n",
            "Epoch 26/50\n",
            "24/24 [==============================] - 11s 470ms/step - loss: 1.6029 - accuracy: 0.2933\n",
            "Epoch 27/50\n",
            "24/24 [==============================] - 11s 472ms/step - loss: 1.6011 - accuracy: 0.3127\n",
            "Epoch 28/50\n",
            "24/24 [==============================] - 11s 470ms/step - loss: 1.5563 - accuracy: 0.3139\n",
            "Epoch 29/50\n",
            "24/24 [==============================] - 11s 471ms/step - loss: 1.5615 - accuracy: 0.3028\n",
            "Epoch 30/50\n",
            "24/24 [==============================] - 11s 474ms/step - loss: 1.5656 - accuracy: 0.2886\n",
            "Epoch 31/50\n",
            "24/24 [==============================] - 12s 480ms/step - loss: 1.5977 - accuracy: 0.3088\n",
            "Epoch 32/50\n",
            "24/24 [==============================] - 11s 475ms/step - loss: 1.5644 - accuracy: 0.2900\n",
            "Epoch 33/50\n",
            "24/24 [==============================] - 11s 475ms/step - loss: 1.8402 - accuracy: 0.2799\n",
            "Epoch 34/50\n",
            "24/24 [==============================] - 11s 476ms/step - loss: 1.5614 - accuracy: 0.3055\n",
            "Epoch 35/50\n",
            "24/24 [==============================] - 11s 476ms/step - loss: 1.5464 - accuracy: 0.3133\n",
            "Epoch 36/50\n",
            "24/24 [==============================] - 11s 476ms/step - loss: 1.5643 - accuracy: 0.2825\n",
            "Epoch 37/50\n",
            "24/24 [==============================] - 11s 475ms/step - loss: 1.5812 - accuracy: 0.2739\n",
            "Epoch 38/50\n",
            "24/24 [==============================] - 11s 476ms/step - loss: 1.5901 - accuracy: 0.2916\n",
            "Epoch 39/50\n",
            "24/24 [==============================] - 12s 480ms/step - loss: 1.5665 - accuracy: 0.2936\n",
            "Epoch 40/50\n",
            "24/24 [==============================] - 11s 478ms/step - loss: 1.5447 - accuracy: 0.3045\n",
            "Epoch 41/50\n",
            "24/24 [==============================] - 11s 475ms/step - loss: 1.5655 - accuracy: 0.2991\n",
            "Epoch 42/50\n",
            "24/24 [==============================] - 11s 478ms/step - loss: 1.5568 - accuracy: 0.2954\n",
            "Epoch 43/50\n",
            "24/24 [==============================] - 11s 475ms/step - loss: 1.5557 - accuracy: 0.2982\n",
            "Epoch 44/50\n",
            "24/24 [==============================] - 11s 474ms/step - loss: 1.5587 - accuracy: 0.3045\n",
            "Epoch 45/50\n",
            "24/24 [==============================] - 11s 477ms/step - loss: 1.5775 - accuracy: 0.3052\n",
            "Epoch 46/50\n",
            "24/24 [==============================] - 11s 474ms/step - loss: 1.5425 - accuracy: 0.3065\n",
            "Epoch 47/50\n",
            "24/24 [==============================] - 11s 475ms/step - loss: 1.5418 - accuracy: 0.3090\n",
            "Epoch 48/50\n",
            "24/24 [==============================] - 11s 476ms/step - loss: 1.5589 - accuracy: 0.2856\n",
            "Epoch 49/50\n",
            "24/24 [==============================] - 11s 476ms/step - loss: 1.5474 - accuracy: 0.3014\n",
            "Epoch 50/50\n",
            "24/24 [==============================] - 11s 478ms/step - loss: 1.5449 - accuracy: 0.3021\n"
          ],
          "name": "stdout"
        },
        {
          "output_type": "execute_result",
          "data": {
            "text/plain": [
              "<tensorflow.python.keras.callbacks.History at 0x7f5187c02450>"
            ]
          },
          "metadata": {
            "tags": []
          },
          "execution_count": 70
        }
      ]
    },
    {
      "cell_type": "code",
      "metadata": {
        "colab": {
          "base_uri": "https://localhost:8080/"
        },
        "id": "BMjpySk-d9JW",
        "outputId": "7920b28d-0e13-4281-c0ce-883f01983680"
      },
      "source": [
        "test_loss, test_acc = model.evaluate(test_images, test_labels)"
      ],
      "execution_count": null,
      "outputs": [
        {
          "output_type": "stream",
          "text": [
            "41/41 [==============================] - 2s 55ms/step - loss: 1.5838 - accuracy: 0.2768\n"
          ],
          "name": "stdout"
        }
      ]
    },
    {
      "cell_type": "code",
      "metadata": {
        "colab": {
          "base_uri": "https://localhost:8080/"
        },
        "id": "spHEACqjd-qt",
        "outputId": "6838049d-aa0b-41c2-b3b9-4126136a2742"
      },
      "source": [
        "print('The Test accuracy is: ', test_acc)"
      ],
      "execution_count": null,
      "outputs": [
        {
          "output_type": "stream",
          "text": [
            "The Test accuracy is:  0.27679258584976196\n"
          ],
          "name": "stdout"
        }
      ]
    },
    {
      "cell_type": "code",
      "metadata": {
        "id": "f1bvyShUhBQs"
      },
      "source": [
        "model2 = models.Sequential()\n",
        "model2.add(layers.Dense(512, activation= 'relu', input_shape=(250*250,)))\n",
        "model2.add(layers.Dense(5, activation='softmax'))\n"
      ],
      "execution_count": null,
      "outputs": []
    },
    {
      "cell_type": "code",
      "metadata": {
        "id": "8jEflIU0hPUv"
      },
      "source": [
        "model2.compile(optimizer='adam', loss='categorical_crossentropy', metrics= ['accuracy'])"
      ],
      "execution_count": null,
      "outputs": []
    },
    {
      "cell_type": "code",
      "metadata": {
        "colab": {
          "base_uri": "https://localhost:8080/"
        },
        "id": "mCB5QP_9hS3F",
        "outputId": "42dee054-7a09-4361-d883-75249c08e69e"
      },
      "source": [
        "model2.fit(train_images, train_labels, epochs=5, batch_size=128)"
      ],
      "execution_count": null,
      "outputs": [
        {
          "output_type": "stream",
          "text": [
            "Epoch 1/5\n",
            "24/24 [==============================] - 9s 362ms/step - loss: 1.2370 - accuracy: 0.5258\n",
            "Epoch 2/5\n",
            "24/24 [==============================] - 9s 360ms/step - loss: 1.2538 - accuracy: 0.5149\n",
            "Epoch 3/5\n",
            "24/24 [==============================] - 9s 360ms/step - loss: 1.3495 - accuracy: 0.4987\n",
            "Epoch 4/5\n",
            "24/24 [==============================] - 9s 361ms/step - loss: 1.1748 - accuracy: 0.5397\n",
            "Epoch 5/5\n",
            "24/24 [==============================] - 9s 365ms/step - loss: 1.1920 - accuracy: 0.5403\n"
          ],
          "name": "stdout"
        },
        {
          "output_type": "execute_result",
          "data": {
            "text/plain": [
              "<tensorflow.python.keras.callbacks.History at 0x7f519df8b990>"
            ]
          },
          "metadata": {
            "tags": []
          },
          "execution_count": 80
        }
      ]
    },
    {
      "cell_type": "code",
      "metadata": {
        "colab": {
          "base_uri": "https://localhost:8080/"
        },
        "id": "WCYLmGjCimJ5",
        "outputId": "925ffd18-5293-45ae-f1ba-b61c51d04688"
      },
      "source": [
        "test_loss, test_acc = model2.evaluate(test_images, test_labels)"
      ],
      "execution_count": null,
      "outputs": [
        {
          "output_type": "stream",
          "text": [
            "41/41 [==============================] - 2s 54ms/step - loss: 2.0472 - accuracy: 0.2691\n"
          ],
          "name": "stdout"
        }
      ]
    },
    {
      "cell_type": "code",
      "metadata": {
        "colab": {
          "base_uri": "https://localhost:8080/"
        },
        "id": "zOyrlrVoinjJ",
        "outputId": "5cbe54a4-94b7-4ff2-f429-dcaea5691d53"
      },
      "source": [
        "print('The Test accuracy is: ', test_acc)"
      ],
      "execution_count": null,
      "outputs": [
        {
          "output_type": "stream",
          "text": [
            "The Test accuracy is:  0.2690824866294861\n"
          ],
          "name": "stdout"
        }
      ]
    }
  ]
}